{
 "cells": [
  {
   "cell_type": "code",
   "execution_count": 1,
   "id": "b5daa4e6",
   "metadata": {},
   "outputs": [
    {
     "name": "stdout",
     "output_type": "stream",
     "text": [
      "Unlinking stale socket /tmp/supervisor.sock\r\n"
     ]
    }
   ],
   "source": [
    "!supervisord -c /home/basse/supervisord.conf"
   ]
  },
  {
   "cell_type": "code",
   "execution_count": 30,
   "id": "176728d0",
   "metadata": {},
   "outputs": [
    {
     "name": "stdout",
     "output_type": "stream",
     "text": [
      "Error: positional arguments are not supported: ['stop']\r\n",
      "For help, use /home/basse/anaconda3/bin/supervisord -h\r\n"
     ]
    }
   ],
   "source": [
    "!supervisord stop\n"
   ]
  },
  {
   "cell_type": "code",
   "execution_count": 11,
   "id": "ad7f003c",
   "metadata": {},
   "outputs": [
    {
     "name": "stdout",
     "output_type": "stream",
     "text": [
      "supervisord -- run a set of applications as daemons.\r\n",
      "\r\n",
      "Usage: /home/basse/anaconda3/bin/supervisord [options]\r\n",
      "\r\n",
      "Options:\r\n",
      "-c/--configuration FILENAME -- configuration file path (searches if not given)\r\n",
      "-n/--nodaemon -- run in the foreground (same as 'nodaemon=true' in config file)\r\n",
      "-s/--silent -- no logs to stdout (maps to 'silent=true' in config file)\r\n",
      "-h/--help -- print this usage message and exit\r\n",
      "-v/--version -- print supervisord version number and exit\r\n",
      "-u/--user USER -- run supervisord as this user (or numeric uid)\r\n",
      "-m/--umask UMASK -- use this umask for daemon subprocess (default is 022)\r\n",
      "-d/--directory DIRECTORY -- directory to chdir to when daemonized\r\n",
      "-l/--logfile FILENAME -- use FILENAME as logfile path\r\n",
      "-y/--logfile_maxbytes BYTES -- use BYTES to limit the max size of logfile\r\n",
      "-z/--logfile_backups NUM -- number of backups to keep when max bytes reached\r\n",
      "-e/--loglevel LEVEL -- use LEVEL as log level (debug,info,warn,error,critical)\r\n",
      "-j/--pidfile FILENAME -- write a pid file for the daemon process to FILENAME\r\n",
      "-i/--identifier STR -- identifier used for this instance of supervisord\r\n",
      "-q/--childlogdir DIRECTORY -- the log directory for child process logs\r\n",
      "-k/--nocleanup --  prevent the process from performing cleanup (removal of\r\n",
      "                   old automatic child log files) at startup.\r\n",
      "-a/--minfds NUM -- the minimum number of file descriptors for start success\r\n",
      "-t/--strip_ansi -- strip ansi escape codes from process output\r\n",
      "--minprocs NUM  -- the minimum number of processes available for start success\r\n",
      "--profile_options OPTIONS -- run supervisord under profiler and output\r\n",
      "                             results based on OPTIONS, which  is a comma-sep'd\r\n",
      "                             list of 'cumulative', 'calls', and/or 'callers',\r\n",
      "                             e.g. 'cumulative,callers')\r\n",
      "\r\n"
     ]
    }
   ],
   "source": [
    "!supervisord -h"
   ]
  },
  {
   "cell_type": "code",
   "execution_count": 5,
   "id": "1688285e",
   "metadata": {},
   "outputs": [
    {
     "name": "stdout",
     "output_type": "stream",
     "text": [
      "agent1: ERROR (already started)\r\n",
      "agent2: ERROR (already started)\r\n",
      "game: ERROR (already started)\r\n"
     ]
    }
   ],
   "source": [
    "!supervisorctl -c /home/basse/supervisord.conf start agent1 agent2 game"
   ]
  },
  {
   "cell_type": "code",
   "execution_count": 31,
   "id": "176782f2",
   "metadata": {},
   "outputs": [
    {
     "name": "stdout",
     "output_type": "stream",
     "text": [
      "agent1: ERROR (not running)\r\n",
      "agent2: ERROR (not running)\r\n",
      "game: ERROR (not running)\r\n"
     ]
    }
   ],
   "source": [
    "!supervisorctl -c /home/basse/supervisord.conf stop agent1 agent2 game"
   ]
  },
  {
   "cell_type": "code",
   "execution_count": 29,
   "id": "c950b721",
   "metadata": {},
   "outputs": [
    {
     "name": "stdout",
     "output_type": "stream",
     "text": [
      "agent1: stopped\r\n",
      "agent2: stopped\r\n",
      "game: stopped\r\n"
     ]
    }
   ],
   "source": [
    "!supervisorctl -c /home/basse/supervisord.conf stop all"
   ]
  },
  {
   "cell_type": "code",
   "execution_count": 28,
   "id": "763d3be4",
   "metadata": {},
   "outputs": [
    {
     "name": "stdout",
     "output_type": "stream",
     "text": [
      "agent1                           RUNNING   pid 77, uptime 0:04:12\r\n",
      "agent2                           RUNNING   pid 78, uptime 0:04:12\r\n",
      "game                             RUNNING   pid 97, uptime 0:02:52\r\n"
     ]
    }
   ],
   "source": [
    "#!supervisorctl -c /home/basse/supervisord.conf start game\n",
    "!supervisorctl -c /home/basse/supervisord.conf status\n"
   ]
  },
  {
   "cell_type": "code",
   "execution_count": 59,
   "id": "c5bf65a4",
   "metadata": {},
   "outputs": [
    {
     "name": "stdout",
     "output_type": "stream",
     "text": [
      "game: changed\r\n"
     ]
    }
   ],
   "source": [
    "!supervisorctl -c /home/basse/supervisord.conf reread"
   ]
  },
  {
   "cell_type": "code",
   "execution_count": 60,
   "id": "82f703f8",
   "metadata": {},
   "outputs": [
    {
     "name": "stdout",
     "output_type": "stream",
     "text": [
      "Error: positional arguments are not supported: ['reread']\r\n",
      "For help, use /home/basse/anaconda3/bin/supervisord -h\r\n"
     ]
    }
   ],
   "source": [
    "!supervisord -c /home/basse/supervisord.conf reread"
   ]
  }
 ],
 "metadata": {
  "kernelspec": {
   "display_name": "Python 3 (ipykernel)",
   "language": "python",
   "name": "python3"
  },
  "language_info": {
   "codemirror_mode": {
    "name": "ipython",
    "version": 3
   },
   "file_extension": ".py",
   "mimetype": "text/x-python",
   "name": "python",
   "nbconvert_exporter": "python",
   "pygments_lexer": "ipython3",
   "version": "3.9.12"
  }
 },
 "nbformat": 4,
 "nbformat_minor": 5
}
